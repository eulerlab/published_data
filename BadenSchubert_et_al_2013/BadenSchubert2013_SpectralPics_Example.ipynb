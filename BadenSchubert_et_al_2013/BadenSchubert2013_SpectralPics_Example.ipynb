{
 "cells": [
  {
   "cell_type": "markdown",
   "metadata": {},
   "source": [
    "**Getting started**\n",
    "1. If the python distribution Anaconda is installed, likely only the following dependencies are missing:  \n",
    "  `pip install h5py, seaborn`\n",
    "2. Download the data from [here](https://doi.org/10.5281/zenodo.1204501), unzip it and copy the `*.h5` file(s) into the same folder as this notebook.\n",
    "3. Make sure the folder `scripts` is also in the same folder as this notebook."
   ]
  },
  {
   "cell_type": "code",
<<<<<<< HEAD
   "execution_count": null,
   "metadata": {
    "collapsed": false
=======
   "execution_count": 1,
   "metadata": {
    "collapsed": true
>>>>>>> 9207200f953900642b8fc7efa7babf1d5704533d
   },
   "outputs": [],
   "source": [
    "import h5py\n",
    "import numpy as np\n",
    "import matplotlib\n",
    "from matplotlib import pyplot as plt\n",
    "import seaborn as sns\n",
    "from scripts.spectrum import wavelength_to_rgb\n",
    "from scripts.h5py_helper import read_hdf5_data, print_hdf5_directory, nan2zero\n",
    "\n",
    "%matplotlib inline \n",
    "sns.set_style(\"whitegrid\", {'axes.grid' : False})"
   ]
  },
  {
   "cell_type": "markdown",
   "metadata": {},
   "source": [
    "Define full path to HDF5 data file and list datafolders in the file:"
   ]
  },
  {
   "cell_type": "code",
   "execution_count": null,
   "metadata": {
    "collapsed": false
   },
   "outputs": [],
   "source": [
    "path = \"BadenSchubert2013_SpectraPics.h5\"\n",
    "\n",
    "keys = h5py.File(path, 'r').keys()\n",
    "list(keys)"
   ]
  },
  {
   "cell_type": "code",
   "execution_count": null,
   "metadata": {
    "collapsed": false
   },
   "outputs": [],
   "source": [
    "print_hdf5_directory(path)"
   ]
  },
  {
   "cell_type": "markdown",
   "metadata": {},
   "source": [
    "Define a dataset to analyse and load spectral image data. The data is a 80x80 array of spectra (each 2048 data points long). To display the resulting image in the correct orientation, the data need to be transposed (exchange x and y)."
   ]
  },
  {
   "cell_type": "code",
   "execution_count": null,
   "metadata": {
    "collapsed": false
   },
   "outputs": [],
   "source": [
    "dataset_name = \"dataset_2012_03_09\"\n",
    "spectral_img = dict(h5py.File(path, 'r')[dataset_name].items())[\"spectral_img\"]\n",
    "spectral_img = np.transpose(spectral_img, (1, 0, 2))\n",
    "print(spectral_img.shape)"
   ]
  },
  {
   "cell_type": "markdown",
   "metadata": {},
   "source": [
    "Load opsin spectra for mice and man as well as scaling of spectral data. Plot the spectra."
   ]
  },
  {
   "cell_type": "code",
   "execution_count": null,
   "metadata": {
    "collapsed": false
   },
   "outputs": [],
   "source": [
    "with h5py.File(path, 'r') as f:\n",
    "    wavelengths  = f[\"opsin_spectra\"][\"wavelengths\"][:]\n",
    "    mouse_scone  = f[\"opsin_spectra\"][\"mouse_Spect360\"][:]\n",
    "    mouse_mcone  = f[\"opsin_spectra\"][\"mouse_Spect511\"][:]\n",
    "    human_scone  = f[\"opsin_spectra\"][\"human_Spect440\"][:]\n",
    "    human_mcone  = f[\"opsin_spectra\"][\"human_Spect535\"][:]\n",
    "    human_lcone  = f[\"opsin_spectra\"][\"human_Spect565\"][:]\n",
    "\n",
    "plt.figure(1)\n",
    "plt.plot(wavelengths, mouse_scone, color=wavelength_to_rgb(360), label=\"mouse S opsin\")\n",
    "plt.plot(wavelengths, mouse_mcone, color=wavelength_to_rgb(511), label=\"mouse M opsin\")\n",
    "plt.gca().set(xlabel=\"wavelength [nm]\", ylabel=\"rel. absorption\")     \n",
    "plt.legend(bbox_to_anchor=(1.01, 1), loc=\"upper left\")\n",
    "\n",
    "plt.figure(2)\n",
    "plt.plot(wavelengths, human_scone, color=wavelength_to_rgb(440), label=\"human S opsin\")\n",
    "plt.plot(wavelengths, human_mcone, color=wavelength_to_rgb(535), label=\"human M opsin\")\n",
    "plt.plot(wavelengths, human_lcone, color=wavelength_to_rgb(565), label=\"human L opsin\")\n",
    "plt.gca().set(xlabel=\"wavelength [nm]\", ylabel=\"rel. absorption\")     \n",
    "plt.legend(bbox_to_anchor=(1.01, 1), loc=\"upper left\")"
   ]
  },
  {
   "cell_type": "markdown",
   "metadata": {},
   "source": [
    "This is how one can access the spectrum for each point in the spectral image:"
   ]
  },
  {
   "cell_type": "code",
   "execution_count": null,
   "metadata": {
    "collapsed": false
   },
   "outputs": [],
   "source": [
    "temp_spect = spectral_img[10][10]\n",
    "\n",
    "plt.plot(wavelengths, temp_spect, label=\"spectrum at 10,10\")\n",
    "plt.gca().set(xlabel=\"wavelength [nm]\", ylabel=\"photon count\")     \n",
    "plt.legend(bbox_to_anchor=(1.01, 1), loc=\"upper left\")"
   ]
  },
  {
   "cell_type": "markdown",
   "metadata": {},
   "source": [
    "Functions for generating mouse (or human) views of the spectral image data:"
   ]
  },
  {
   "cell_type": "code",
   "execution_count": null,
   "metadata": {
    "collapsed": true
   },
   "outputs": [],
   "source": [
    "def getPixel(spect, x, y, opsin_spect, curr_a_max):\n",
    "    \"\"\" Multiply spectrum at pixel x,y with opsin absorption spectrum and\n",
    "        return the area under the curve as well as the maximal area until\n",
    "        this point. \n",
    "    \"\"\"    \n",
    "    s = spect[x][y] *opsin_spect\n",
    "    s = nan2zero(s)\n",
    "    \n",
    "    # ... determine area under the curve (AUC) and remember value \n",
    "    # if larger than the values before (for normalisation) \n",
    "    #\n",
    "    area  = np.trapz(s)\n",
    "    a_max = max(curr_a_max, area)\n",
    "    \n",
    "    # Return AUC and currently maximal AUC\n",
    "    #\n",
    "    return area, a_max\n",
    "\n",
    "def calcImage(sp_img, sp_cones):\n",
    "    \"\"\" Calculate RGB image based on the spectral image and the list of \n",
    "        cone opsin spectra\n",
    "    \"\"\"\n",
    "    i_max      = [0]*3\n",
    "    dx, dy, dS = sp_img.shape\n",
    "    img        = np.zeros((dx, dy, 3))\n",
    "    rgb_img    = np.zeros((dy, dx, 3), dtype=np.uint8)\n",
    "\n",
    "    # Determine the excitation of the different opsins for each pixel\n",
    "    #\n",
    "    for iCh, sp_cone in enumerate(sp_cones):\n",
    "        if not(sp_cone is None): \n",
    "            for x in range(dx):\n",
    "                for y in range(dy):\n",
    "                    img[x][y][iCh], i_max[iCh] = getPixel(sp_img, x, y, sp_cone, i_max[iCh])\n",
    "        \n",
    "    # Copy into RGB image\n",
    "    #\n",
    "    for iCh, sp_cone in enumerate(sp_cones):\n",
    "        if not(sp_cone is None): \n",
    "            rgb_img[:,:,iCh] = img[:,:,iCh] /i_max[iCh] *255\n",
    "    \n",
    "    return rgb_img"
   ]
  },
  {
   "cell_type": "code",
   "execution_count": null,
   "metadata": {
    "collapsed": false
   },
   "outputs": [],
   "source": [
    "img_mouse = calcImage(spectral_img, [None, mouse_mcone, mouse_scone])\n",
    "plt.imshow(img_mouse)\n",
    "plt.gca().set(xticklabels=[], yticklabels =[])\n",
    "plt.show()"
   ]
  },
  {
   "cell_type": "code",
   "execution_count": null,
   "metadata": {
    "collapsed": false
   },
   "outputs": [],
   "source": [
    "img_human = calcImage(spectral_img, [human_lcone, human_mcone, human_scone])\n",
    "plt.imshow(img_human)\n",
    "plt.gca().set(xticklabels=[], yticklabels =[])\n",
    "plt.show()"
   ]
  }
 ],
 "metadata": {
  "anaconda-cloud": {},
  "kernelspec": {
   "display_name": "Python [default]",
   "language": "python",
   "name": "python3"
  },
  "language_info": {
   "codemirror_mode": {
    "name": "ipython",
    "version": 3
   },
   "file_extension": ".py",
   "mimetype": "text/x-python",
   "name": "python",
   "nbconvert_exporter": "python",
   "pygments_lexer": "ipython3",
   "version": "3.6.0"
  }
 },
 "nbformat": 4,
 "nbformat_minor": 2
}
